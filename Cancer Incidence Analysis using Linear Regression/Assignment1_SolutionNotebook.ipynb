{
 "cells": [
  {
   "cell_type": "markdown",
   "metadata": {},
   "source": [
    "## Preliminary analysis\n",
    "\n",
    "- Includes viewing the sheet, analyzing the columns"
   ]
  },
  {
   "cell_type": "code",
   "execution_count": 2,
   "metadata": {},
   "outputs": [],
   "source": [
    "import pandas as pd\n",
    "import numpy as np\n",
    "import matplotlib.pyplot as plt\n",
    "import seaborn as sns"
   ]
  },
  {
   "cell_type": "code",
   "execution_count": 3,
   "metadata": {},
   "outputs": [],
   "source": [
    "dataset = pd.read_excel('merged_data.xlsx')"
   ]
  },
  {
   "cell_type": "code",
   "execution_count": 4,
   "metadata": {},
   "outputs": [
    {
     "data": {
      "text/html": [
       "<div>\n",
       "<style scoped>\n",
       "    .dataframe tbody tr th:only-of-type {\n",
       "        vertical-align: middle;\n",
       "    }\n",
       "\n",
       "    .dataframe tbody tr th {\n",
       "        vertical-align: top;\n",
       "    }\n",
       "\n",
       "    .dataframe thead th {\n",
       "        text-align: right;\n",
       "    }\n",
       "</style>\n",
       "<table border=\"1\" class=\"dataframe\">\n",
       "  <thead>\n",
       "    <tr style=\"text-align: right;\">\n",
       "      <th></th>\n",
       "      <th>Unnamed: 0</th>\n",
       "      <th>State</th>\n",
       "      <th>AreaName</th>\n",
       "      <th>All_Poverty</th>\n",
       "      <th>M_Poverty</th>\n",
       "      <th>F_Poverty</th>\n",
       "      <th>FIPS</th>\n",
       "      <th>Med_Income</th>\n",
       "      <th>Med_Income_White</th>\n",
       "      <th>Med_Income_Black</th>\n",
       "      <th>...</th>\n",
       "      <th>F_Without</th>\n",
       "      <th>All_With</th>\n",
       "      <th>All_Without</th>\n",
       "      <th>fips_x</th>\n",
       "      <th>Incidence_Rate</th>\n",
       "      <th>Avg_Ann_Incidence</th>\n",
       "      <th>recent_trend</th>\n",
       "      <th>fips_y</th>\n",
       "      <th>Mortality_Rate</th>\n",
       "      <th>Avg_Ann_Deaths</th>\n",
       "    </tr>\n",
       "  </thead>\n",
       "  <tbody>\n",
       "    <tr>\n",
       "      <th>0</th>\n",
       "      <td>0</td>\n",
       "      <td>AK</td>\n",
       "      <td>Aleutians East Borough, Alaska</td>\n",
       "      <td>553</td>\n",
       "      <td>334</td>\n",
       "      <td>219</td>\n",
       "      <td>2013</td>\n",
       "      <td>61518.0</td>\n",
       "      <td>72639.0</td>\n",
       "      <td>31250.0</td>\n",
       "      <td>...</td>\n",
       "      <td>540</td>\n",
       "      <td>1442</td>\n",
       "      <td>1857</td>\n",
       "      <td>2013</td>\n",
       "      <td>*</td>\n",
       "      <td>3 or fewer</td>\n",
       "      <td>*</td>\n",
       "      <td>2013</td>\n",
       "      <td>*</td>\n",
       "      <td>*</td>\n",
       "    </tr>\n",
       "    <tr>\n",
       "      <th>1</th>\n",
       "      <td>1</td>\n",
       "      <td>AK</td>\n",
       "      <td>Aleutians West Census Area, Alaska</td>\n",
       "      <td>499</td>\n",
       "      <td>273</td>\n",
       "      <td>226</td>\n",
       "      <td>2016</td>\n",
       "      <td>84306.0</td>\n",
       "      <td>97321.0</td>\n",
       "      <td>93750.0</td>\n",
       "      <td>...</td>\n",
       "      <td>564</td>\n",
       "      <td>4177</td>\n",
       "      <td>1333</td>\n",
       "      <td>2016</td>\n",
       "      <td>*</td>\n",
       "      <td>3 or fewer</td>\n",
       "      <td>*</td>\n",
       "      <td>2016</td>\n",
       "      <td>*</td>\n",
       "      <td>*</td>\n",
       "    </tr>\n",
       "    <tr>\n",
       "      <th>2</th>\n",
       "      <td>2</td>\n",
       "      <td>AK</td>\n",
       "      <td>Anchorage Municipality, Alaska</td>\n",
       "      <td>23914</td>\n",
       "      <td>10698</td>\n",
       "      <td>13216</td>\n",
       "      <td>2020</td>\n",
       "      <td>78326.0</td>\n",
       "      <td>87235.0</td>\n",
       "      <td>50535.0</td>\n",
       "      <td>...</td>\n",
       "      <td>21393</td>\n",
       "      <td>243173</td>\n",
       "      <td>44638</td>\n",
       "      <td>2020</td>\n",
       "      <td>61.5</td>\n",
       "      <td>131</td>\n",
       "      <td>stable</td>\n",
       "      <td>2020</td>\n",
       "      <td>47.3</td>\n",
       "      <td>96</td>\n",
       "    </tr>\n",
       "    <tr>\n",
       "      <th>3</th>\n",
       "      <td>3</td>\n",
       "      <td>AK</td>\n",
       "      <td>Bethel Census Area, Alaska</td>\n",
       "      <td>4364</td>\n",
       "      <td>2199</td>\n",
       "      <td>2165</td>\n",
       "      <td>2050</td>\n",
       "      <td>51012.0</td>\n",
       "      <td>92647.0</td>\n",
       "      <td>73661.0</td>\n",
       "      <td>...</td>\n",
       "      <td>1774</td>\n",
       "      <td>13023</td>\n",
       "      <td>4482</td>\n",
       "      <td>2050</td>\n",
       "      <td>62.7</td>\n",
       "      <td>6</td>\n",
       "      <td>stable</td>\n",
       "      <td>2050</td>\n",
       "      <td>58.3</td>\n",
       "      <td>5</td>\n",
       "    </tr>\n",
       "    <tr>\n",
       "      <th>4</th>\n",
       "      <td>4</td>\n",
       "      <td>AK</td>\n",
       "      <td>Bristol Bay Borough, Alaska</td>\n",
       "      <td>69</td>\n",
       "      <td>33</td>\n",
       "      <td>36</td>\n",
       "      <td>2060</td>\n",
       "      <td>79750.0</td>\n",
       "      <td>88000.0</td>\n",
       "      <td>NaN</td>\n",
       "      <td>...</td>\n",
       "      <td>67</td>\n",
       "      <td>768</td>\n",
       "      <td>191</td>\n",
       "      <td>2060</td>\n",
       "      <td>*</td>\n",
       "      <td>3 or fewer</td>\n",
       "      <td>*</td>\n",
       "      <td>2060</td>\n",
       "      <td>*</td>\n",
       "      <td>*</td>\n",
       "    </tr>\n",
       "  </tbody>\n",
       "</table>\n",
       "<p>5 rows × 26 columns</p>\n",
       "</div>"
      ],
      "text/plain": [
       "   Unnamed: 0 State                            AreaName  All_Poverty  \\\n",
       "0           0    AK      Aleutians East Borough, Alaska          553   \n",
       "1           1    AK  Aleutians West Census Area, Alaska          499   \n",
       "2           2    AK      Anchorage Municipality, Alaska        23914   \n",
       "3           3    AK          Bethel Census Area, Alaska         4364   \n",
       "4           4    AK         Bristol Bay Borough, Alaska           69   \n",
       "\n",
       "   M_Poverty  F_Poverty  FIPS  Med_Income  Med_Income_White  Med_Income_Black  \\\n",
       "0        334        219  2013     61518.0           72639.0           31250.0   \n",
       "1        273        226  2016     84306.0           97321.0           93750.0   \n",
       "2      10698      13216  2020     78326.0           87235.0           50535.0   \n",
       "3       2199       2165  2050     51012.0           92647.0           73661.0   \n",
       "4         33         36  2060     79750.0           88000.0               NaN   \n",
       "\n",
       "   ...  F_Without  All_With  All_Without  fips_x  Incidence_Rate  \\\n",
       "0  ...        540      1442         1857    2013               *   \n",
       "1  ...        564      4177         1333    2016               *   \n",
       "2  ...      21393    243173        44638    2020            61.5   \n",
       "3  ...       1774     13023         4482    2050            62.7   \n",
       "4  ...         67       768          191    2060               *   \n",
       "\n",
       "   Avg_Ann_Incidence  recent_trend  fips_y  Mortality_Rate  Avg_Ann_Deaths  \n",
       "0         3 or fewer             *    2013               *               *  \n",
       "1         3 or fewer             *    2016               *               *  \n",
       "2                131        stable    2020            47.3              96  \n",
       "3                  6        stable    2050            58.3               5  \n",
       "4         3 or fewer             *    2060               *               *  \n",
       "\n",
       "[5 rows x 26 columns]"
      ]
     },
     "execution_count": 4,
     "metadata": {},
     "output_type": "execute_result"
    }
   ],
   "source": [
    "dataset.head()"
   ]
  },
  {
   "cell_type": "code",
   "execution_count": 7,
   "metadata": {},
   "outputs": [
    {
     "name": "stdout",
     "output_type": "stream",
     "text": [
      "<class 'pandas.core.frame.DataFrame'>\n",
      "RangeIndex: 3134 entries, 0 to 3133\n",
      "Data columns (total 26 columns):\n",
      " #   Column             Non-Null Count  Dtype  \n",
      "---  ------             --------------  -----  \n",
      " 0   Unnamed: 0         3134 non-null   int64  \n",
      " 1   State              3134 non-null   object \n",
      " 2   AreaName           3134 non-null   object \n",
      " 3   All_Poverty        3134 non-null   int64  \n",
      " 4   M_Poverty          3134 non-null   int64  \n",
      " 5   F_Poverty          3134 non-null   int64  \n",
      " 6   FIPS               3134 non-null   int64  \n",
      " 7   Med_Income         3133 non-null   float64\n",
      " 8   Med_Income_White   3132 non-null   float64\n",
      " 9   Med_Income_Black   1924 non-null   float64\n",
      " 10  Med_Income_Nat_Am  1474 non-null   float64\n",
      " 11  Med_Income_Asian   1377 non-null   float64\n",
      " 12  Hispanic           2453 non-null   float64\n",
      " 13  M_With             3134 non-null   int64  \n",
      " 14  M_Without          3134 non-null   int64  \n",
      " 15  F_With             3134 non-null   int64  \n",
      " 16  F_Without          3134 non-null   int64  \n",
      " 17  All_With           3134 non-null   int64  \n",
      " 18  All_Without        3134 non-null   int64  \n",
      " 19  fips_x             3134 non-null   int64  \n",
      " 20  Incidence_Rate     3134 non-null   object \n",
      " 21  Avg_Ann_Incidence  3134 non-null   object \n",
      " 22  recent_trend       3134 non-null   object \n",
      " 23  fips_y             3134 non-null   int64  \n",
      " 24  Mortality_Rate     3134 non-null   object \n",
      " 25  Avg_Ann_Deaths     3134 non-null   object \n",
      "dtypes: float64(6), int64(13), object(7)\n",
      "memory usage: 636.7+ KB\n"
     ]
    }
   ],
   "source": [
    "# Attributes datatype\n",
    "dataset.info()"
   ]
  },
  {
   "cell_type": "code",
   "execution_count": 8,
   "metadata": {},
   "outputs": [
    {
     "data": {
      "text/plain": [
       "Unnamed: 0              0\n",
       "State                   0\n",
       "AreaName                0\n",
       "All_Poverty             0\n",
       "M_Poverty               0\n",
       "F_Poverty               0\n",
       "FIPS                    0\n",
       "Med_Income              1\n",
       "Med_Income_White        2\n",
       "Med_Income_Black     1210\n",
       "Med_Income_Nat_Am    1660\n",
       "Med_Income_Asian     1757\n",
       "Hispanic              681\n",
       "M_With                  0\n",
       "M_Without               0\n",
       "F_With                  0\n",
       "F_Without               0\n",
       "All_With                0\n",
       "All_Without             0\n",
       "fips_x                  0\n",
       "Incidence_Rate          0\n",
       "Avg_Ann_Incidence       0\n",
       "recent_trend            0\n",
       "fips_y                  0\n",
       "Mortality_Rate          0\n",
       "Avg_Ann_Deaths          0\n",
       "dtype: int64"
      ]
     },
     "execution_count": 8,
     "metadata": {},
     "output_type": "execute_result"
    }
   ],
   "source": [
    "# Number of null entries, excludes special missing entries such as *, _ and __\n",
    "len(dataset) - dataset.count()"
   ]
  },
  {
   "cell_type": "markdown",
   "metadata": {},
   "source": [
    "Here you could see the number of null values present in each attribute. Note that few features like Incidence rates, Avg_Ann_Incidence have missing values but since they are encoded differently, the below table shows zero counts for these.\n",
    "\n",
    "Key Observation:\n",
    "- The Median Income of Ethnicities have a lot of missing datas (More than 38% for 3 ethnicities, 20% for Hispanic)\n"
   ]
  },
  {
   "cell_type": "markdown",
   "metadata": {},
   "source": [
    "## Visualizing the Dataset\n",
    "\n",
    "- Let's visualize the dataset to understand it better"
   ]
  },
  {
   "cell_type": "code",
   "execution_count": 9,
   "metadata": {},
   "outputs": [],
   "source": [
    "# let's create a copy and work on it further\n",
    "cancer = dataset.copy()"
   ]
  },
  {
   "cell_type": "code",
   "execution_count": 10,
   "metadata": {},
   "outputs": [
    {
     "data": {
      "image/png": "[encoded data removed]",
      "text/plain": [
       "<Figure size 1440x1080 with 20 Axes>"
      ]
     },
     "metadata": {
      "needs_background": "light"
     },
     "output_type": "display_data"
    }
   ],
   "source": [
    "cancer.hist(figsize = (20,15))\n",
    "plt.show()"
   ]
  },
  {
   "cell_type": "markdown",
   "metadata": {},
   "source": [
    "Instead of dropping data here and then, let's make inferences and finally make a overall pipeline\n",
    "\n",
    "**Initial Observation**:\n",
    "- From the sheet, it is clear that \"unnamed 0\" is additional index. We must drop that.\n",
    "- Similarly, Area name and State column should be dropped as it is primarily present to make searching easier"
   ]
  },
  {
   "cell_type": "code",
   "execution_count": 11,
   "metadata": {},
   "outputs": [
    {
     "name": "stdout",
     "output_type": "stream",
     "text": [
      "Is All_Poverty equal to M_Poverty + F_Poverty: True \n",
      "\n",
      "Collinearity: \n",
      "All_Poverty    1.000000\n",
      "M_Poverty      0.999696\n",
      "F_Poverty      0.999792\n",
      "Name: All_Poverty, dtype: float64\n"
     ]
    }
   ],
   "source": [
    "# Analysing Poverty features\n",
    "print(\"Is All_Poverty equal to M_Poverty + F_Poverty:\" , not sum(cancer['All_Poverty']!=(cancer['M_Poverty'] + cancer['F_Poverty'])),'\\n')\n",
    "corr_matrix = cancer.corr()\n",
    "print('Collinearity: ')\n",
    "print(corr_matrix['All_Poverty'][['All_Poverty','M_Poverty','F_Poverty']])"
   ]
  },
  {
   "cell_type": "markdown",
   "metadata": {},
   "source": [
    "All_Poverty, M_Poverty, F_Poverty are highly correlated and also All_Poverty is sum of M_Poverty and F_Poverty. \n",
    "\n",
    "Let's Analyse FIPS (Federal Information Processing Standards). It is a unique identifier for each county. Let's verify this claim and also check if there's any relationship between fips, fips_x and fips_y"
   ]
  },
  {
   "cell_type": "code",
   "execution_count": 12,
   "metadata": {},
   "outputs": [
    {
     "name": "stdout",
     "output_type": "stream",
     "text": [
      "No of records: 3134\n",
      "No of unique FIPS values: 3134 \n",
      "\n",
      "Collinearity: \n",
      "FIPS      1.0\n",
      "fips_x    1.0\n",
      "fips_y    1.0\n",
      "Name: FIPS, dtype: float64\n",
      "Is FIPS, fips_x, fips_y identical?  True\n"
     ]
    }
   ],
   "source": [
    "print('No of records:', len(cancer))\n",
    "print('No of unique FIPS values:', cancer['FIPS'].nunique(),'\\n')\n",
    "print('Collinearity: ')\n",
    "print(corr_matrix['FIPS'][['FIPS','fips_x','fips_y']])\n",
    "print('Is FIPS, fips_x, fips_y identical? ', not (len(cancer) - sum(cancer['FIPS']==cancer['fips_x']) and len(cancer) - sum(cancer['FIPS']==cancer['fips_y']) ))"
   ]
  },
  {
   "cell_type": "markdown",
   "metadata": {},
   "source": [
    "Since all the three attributes are equal and are only indicative of indexes,\n",
    "FIPS,fips_x, fips_y should be dropped.\n",
    "\n",
    "Now, let's analyse Median Income and ethnicities"
   ]
  },
  {
   "cell_type": "code",
   "execution_count": 13,
   "metadata": {},
   "outputs": [
    {
     "name": "stdout",
     "output_type": "stream",
     "text": [
      "Med_Income              1\n",
      "Med_Income_White        2\n",
      "Med_Income_Black     1210\n",
      "Med_Income_Nat_Am    1660\n",
      "Med_Income_Asian     1757\n",
      "Hispanic              681\n",
      "dtype: int64 \n",
      "\n",
      "Collinearity: \n",
      "Med_Income           1.000000\n",
      "Med_Income_White     0.935495\n",
      "Med_Income_Black     0.591432\n",
      "Med_Income_Nat_Am    0.349509\n",
      "Med_Income_Asian     0.320073\n",
      "Hispanic             0.479943\n",
      "Name: Med_Income, dtype: float64\n"
     ]
    }
   ],
   "source": [
    "## Missing Values and collinearity with each other ethnicities\n",
    "a_ = len(cancer) - cancer.count()\n",
    "print(a_[['Med_Income','Med_Income_White','Med_Income_Black','Med_Income_Nat_Am','Med_Income_Asian','Hispanic']],'\\n')\n",
    "print('Collinearity: ')\n",
    "print(corr_matrix['Med_Income'][['Med_Income','Med_Income_White','Med_Income_Black','Med_Income_Nat_Am','Med_Income_Asian','Hispanic']])"
   ]
  },
  {
   "cell_type": "markdown",
   "metadata": {},
   "source": [
    "Now, Let's analyse Population Health Insurance Attributes"
   ]
  },
  {
   "cell_type": "code",
   "execution_count": 13,
   "metadata": {},
   "outputs": [
    {
     "data": {
      "image/png": "[encoded data removed]",
      "text/plain": [
       "<Figure size 432x288 with 2 Axes>"
      ]
     },
     "metadata": {},
     "output_type": "display_data"
    }
   ],
   "source": [
    "cols = ['All_With','All_Without','M_With','M_Without','F_With','F_Without']\n",
    "sns.set_style(style = 'white')\n",
    "cmap = sns.diverging_palette(250, 10, as_cmap=True)\n",
    "cm = cancer[cols].corr()\n",
    "sns.set(font_scale=1.5)\n",
    "hm = sns.heatmap(cm, cmap = cmap,cbar=True, annot=True, square=True,fmt='.2f', annot_kws={'size':12},\n",
    "                 yticklabels=cols, xticklabels=cols)\n",
    "plt.show()"
   ]
  },
  {
   "cell_type": "markdown",
   "metadata": {},
   "source": [
    "This indicates these columns are highly correlated. Notice that All_With yields almost 1 correlation to M_with and F_with and All_Without yields near 1 correlation with M_Without and F_Without. This makes sense as Total Population with Insurance in a way is highly related to Male and Female Populations who have insurance."
   ]
  },
  {
   "cell_type": "markdown",
   "metadata": {},
   "source": [
    "#### Investigating incidence_rate,avg_ann_incidence, mortality, avg_ann_death"
   ]
  },
  {
   "cell_type": "code",
   "execution_count": 14,
   "metadata": {},
   "outputs": [],
   "source": [
    "# checks whether a particular column has integer entries and returns the number of non-int entries\n",
    "def checkint(df, column):\n",
    "    errorvals = []\n",
    "    for val in df[column]:\n",
    "        try:\n",
    "            float(val)\n",
    "        except:\n",
    "            errorvals.append(val)\n",
    "    print('\\nFor the column ',column,', non-numeric entries are: ')\n",
    "    print(pd.Series(errorvals).value_counts(),'\\n')\n",
    "        "
   ]
  },
  {
   "cell_type": "code",
   "execution_count": 15,
   "metadata": {},
   "outputs": [
    {
     "name": "stdout",
     "output_type": "stream",
     "text": [
      "\n",
      "For the column  Incidence_Rate , non-numeric entries are: \n",
      "*         211\n",
      "_         192\n",
      "__         17\n",
      "71.1 #      2\n",
      "73.6 #      2\n",
      "         ... \n",
      "63.8 #      1\n",
      "54.6 #      1\n",
      "51.2 #      1\n",
      "60 #        1\n",
      "50.1 #      1\n",
      "Length: 79, dtype: int64 \n",
      "\n",
      "\n",
      "For the column  Avg_Ann_Incidence , non-numeric entries are: \n",
      "3 or fewer    211\n",
      "_             192\n",
      "__             17\n",
      "dtype: int64 \n",
      "\n",
      "\n",
      "For the column  Mortality_Rate , non-numeric entries are: \n",
      "*    325\n",
      "dtype: int64 \n",
      "\n",
      "\n",
      "For the column  Avg_Ann_Deaths , non-numeric entries are: \n",
      "*    325\n",
      "dtype: int64 \n",
      "\n"
     ]
    }
   ],
   "source": [
    "checkint(cancer,'Incidence_Rate')\n",
    "checkint(cancer,'Avg_Ann_Incidence')\n",
    "checkint(cancer,'Mortality_Rate')\n",
    "checkint(cancer,'Avg_Ann_Deaths')"
   ]
  },
  {
   "cell_type": "markdown",
   "metadata": {},
   "source": [
    "- ' * ' represents missing data\n",
    "- ' # ' is representative of some legislature rules and \n",
    "- _ and __ are suppressed data due to rules and regulations .\n",
    "\n",
    "We will deal these missing values by considering the entries only with known entries. Rows containing '#' appended to numbers can safely be considered as the error attributed due to legislative rules would be insignificant. * 's and underscores entries will be dealt by ignoring them"
   ]
  },
  {
   "cell_type": "markdown",
   "metadata": {},
   "source": [
    "<u>**Mortality Rate**</u>"
   ]
  },
  {
   "cell_type": "code",
   "execution_count": 16,
   "metadata": {},
   "outputs": [
    {
     "data": {
      "image/png": "[encoded data removed]",
      "text/plain": [
       "<Figure size 720x432 with 1 Axes>"
      ]
     },
     "metadata": {
      "needs_background": "light"
     },
     "output_type": "display_data"
    }
   ],
   "source": [
    "cancer['Mortality_Rate'][cancer['Mortality_Rate']!='*'].hist(bins=20,figsize = (10,6))\n",
    "plt.xlabel(\"Morality_Rate\")\n",
    "plt.ylabel(\"Count\")\n",
    "plt.show()"
   ]
  },
  {
   "cell_type": "code",
   "execution_count": 17,
   "metadata": {},
   "outputs": [
    {
     "name": "stdout",
     "output_type": "stream",
     "text": [
      "Range: \n",
      "min:  9.2\n",
      "max:  125.6\n"
     ]
    }
   ],
   "source": [
    "print(\"Range: \")\n",
    "print('min: ',cancer['Mortality_Rate'][cancer['Mortality_Rate']!='*'].min())\n",
    "print('max: ',cancer['Mortality_Rate'][cancer['Mortality_Rate']!='*'].max())"
   ]
  },
  {
   "cell_type": "markdown",
   "metadata": {},
   "source": [
    "- Mortality Rate is our target variable. There appears some missing values * in the particular attribute. This needs to addressed\n",
    "- From cancer_data_notes.xlsx, * indicates counts are suppressed if fewer than 16 records are reported (or)  Data has been suppressed to ensure confidentiality and stability of rate estimates\n",
    "\n",
    "The following are the choices:\n",
    "- Impute the values (use strategies such as median or mean) to fill the missing data. Mean or Median aren't good choices as they are arbitary here. Also, filling the values with 16 or lower isn't possible because the mortality_rates' are population adjusted (per 100,000) which information isn't available to us. So, the adjusted rate may vary anywhere depending upon the population. \n",
    "- Also, if the lesser count is an indication of unreported cases (which is a lot more likely), it is better to drop those columns (as this accounts for unnecessary noises)\n",
    "\n",
    "Final Decision: Drop the specific rows containing *'s as the population is unknown, data have some uncertainity and since this is a target variable"
   ]
  },
  {
   "cell_type": "code",
   "execution_count": 18,
   "metadata": {},
   "outputs": [],
   "source": [
    "cancer_new = cancer[cancer['Mortality_Rate']!='*']"
   ]
  },
  {
   "cell_type": "markdown",
   "metadata": {},
   "source": [
    "<u>**Incidence_Rate**</u>"
   ]
  },
  {
   "cell_type": "code",
   "execution_count": 19,
   "metadata": {},
   "outputs": [
    {
     "name": "stdout",
     "output_type": "stream",
     "text": [
      "\n",
      "For the column  Incidence_Rate , non-numeric entries are: \n",
      "_         151\n",
      "__         12\n",
      "*           5\n",
      "71.1 #      2\n",
      "73.6 #      2\n",
      "         ... \n",
      "54.6 #      1\n",
      "51.2 #      1\n",
      "60 #        1\n",
      "60.7 #      1\n",
      "50.1 #      1\n",
      "Length: 79, dtype: int64 \n",
      "\n"
     ]
    }
   ],
   "source": [
    "checkint(cancer_new,'Incidence_Rate')"
   ]
  },
  {
   "cell_type": "markdown",
   "metadata": {},
   "source": [
    "### Recent Trend"
   ]
  },
  {
   "cell_type": "code",
   "execution_count": 20,
   "metadata": {},
   "outputs": [
    {
     "data": {
      "image/png": "[encoded data removed]",
      "text/plain": [
       "<Figure size 432x288 with 1 Axes>"
      ]
     },
     "metadata": {
      "needs_background": "light"
     },
     "output_type": "display_data"
    }
   ],
   "source": [
    "cancer_new['recent_trend'].hist()\n",
    "plt.show()"
   ]
  },
  {
   "cell_type": "code",
   "execution_count": 21,
   "metadata": {},
   "outputs": [
    {
     "data": {
      "text/plain": [
       "stable     2382\n",
       "falling     197\n",
       "_           151\n",
       "rising       39\n",
       "*            28\n",
       "__           12\n",
       "Name: recent_trend, dtype: int64"
      ]
     },
     "execution_count": 21,
     "metadata": {},
     "output_type": "execute_result"
    }
   ],
   "source": [
    "cancer_new['recent_trend'].value_counts()"
   ]
  },
  {
   "cell_type": "markdown",
   "metadata": {},
   "source": [
    "Recent Trend is a categorical data which describes the trend over past 5 years on Incidence of Cancer. Though it is suggestive of likelihood of cancer, it is definitely not a clear indicator of Cancer Incidence. Trend depends on various external factors and can't be analyzed further without additional information. This data is from 2017 and before. (Some thoughts: It is intruiging to think about the current trend due to pandemic and Economy to impact these columns). So, it is dropped from further analysis.  "
   ]
  },
  {
   "cell_type": "code",
   "execution_count": 22,
   "metadata": {},
   "outputs": [],
   "source": [
    "from sklearn.base import BaseEstimator, TransformerMixin\n",
    "from sklearn.preprocessing import OneHotEncoder"
   ]
  },
  {
   "cell_type": "code",
   "execution_count": 23,
   "metadata": {},
   "outputs": [],
   "source": [
    "# Few Transformers \n",
    "\n",
    "# if drop = False, it selects cols. if drop = True, it drops those cols and returns everything else.\n",
    "# selects particular columns of a dataframe\n",
    "class DataFrameSelector(BaseEstimator,TransformerMixin):\n",
    "    def __init__(self,attribute_names,drop=False):\n",
    "        self.attribute_names = attribute_names \n",
    "        self.drop = drop\n",
    "    def fit(self,X,y=None):\n",
    "        return self # does Nothing \n",
    "    def transform(self,X):\n",
    "        if self.drop:\n",
    "            X_ = X.drop(self.attribute_names,axis=1)\n",
    "            return X_ \n",
    "            # change it to X_.values later \n",
    "        else:\n",
    "            return X[self.attribute_names].values\n",
    "    "
   ]
  },
  {
   "cell_type": "code",
   "execution_count": 24,
   "metadata": {},
   "outputs": [],
   "source": [
    "# removes rows containing special missing vals \n",
    "class rowremover(BaseEstimator,TransformerMixin):\n",
    "    def __init__(self,col,string):\n",
    "        self.string = string \n",
    "        self.col = col\n",
    "    def fit(self,X,y=None):\n",
    "        return self\n",
    "    def transform(self,X,y=None):\n",
    "        return X[X[self.col]!=self.string]        "
   ]
  },
  {
   "cell_type": "code",
   "execution_count": 25,
   "metadata": {},
   "outputs": [],
   "source": [
    "# retrieves the number that has '#' appended to its end\n",
    "import regex \n",
    "class hashappendfixer(BaseEstimator,TransformerMixin):\n",
    "    def __init__(self,col):\n",
    "        self.col = col \n",
    "    def fit(self,X,y=None):\n",
    "        return self \n",
    "    def transform(self,X,y=None):\n",
    "        X[self.col] = X[self.col].replace({'\\#':''}, regex = True)\n",
    "        return X"
   ]
  },
  {
   "cell_type": "code",
   "execution_count": 26,
   "metadata": {},
   "outputs": [],
   "source": [
    "# converts non-convertible non integer values to Nan. Useful to convert *, _ and __ to Nan\n",
    "class missingvaluefixer(BaseEstimator,TransformerMixin):\n",
    "    def __init__(self,col):\n",
    "        self.col = col\n",
    "    def fit(self,X,y=None):\n",
    "        return self \n",
    "    def transform(self,X,y=None):\n",
    "        X[self.col] = pd.to_numeric(X[self.col], errors='coerce')\n",
    "        return X\n",
    "            "
   ]
  },
  {
   "cell_type": "code",
   "execution_count": 27,
   "metadata": {},
   "outputs": [],
   "source": [
    "# creates a new column on poverty percentage which is number of people living under poverty/(estimated population in county)\n",
    "# estimated population = 10^6 *'Ann_Incidence_Rate'/'Incidence_Rate'\n",
    "# Reason: Incidence_rate is normalized values (for a million population) and Ann_Incidence is the total count\n",
    "def povertypercentage(df,col=['All_Poverty','M_Poverty','F_Poverty']):\n",
    "    for col_name in col:\n",
    "        df[col_name+'_Percentage'] = 100*df[col_name]/(100000*df['Avg_Ann_Incidence']/df['Incidence_Rate'])\n",
    "    return df \n",
    "\n",
    "# creates a new column on Insurance percentage which is number of people with insurance /(estimated population in county)\n",
    "# estimated population = Total People with insurance and Total People without insurance\n",
    "# Both the ways of estimating population yields similar numbers (Results not shown). Different approaches are adopted to \n",
    "# ensure more accurate results and takes information in accordance to the calculations.\n",
    "def HealthInsurancePercentage(df,col=['M_With','F_With','All_With']):\n",
    "    for col_name in col:\n",
    "        df[col_name+'_Percentage'] = 100*df[col_name]/(df['All_With']+df['All_Without'])\n",
    "    \n",
    "    return df"
   ]
  },
  {
   "cell_type": "code",
   "execution_count": 28,
   "metadata": {},
   "outputs": [],
   "source": [
    "from sklearn.pipeline import Pipeline\n",
    "\n",
    "dropcols = ['Unnamed: 0','State','AreaName','FIPS','fips_x','fips_y','Avg_Ann_Deaths','recent_trend']\n",
    "pipeline = Pipeline([('selector',DataFrameSelector(dropcols,drop=True)),\n",
    "                    ('starremover',rowremover('Mortality_Rate','*')),('hashfixer',hashappendfixer('Incidence_Rate')),\n",
    "                    ('starremover_',rowremover('Incidence_Rate','*')),('underscoreremover',rowremover('Incidence_Rate','_')),\n",
    "                    ('doubleunderscoreremover',rowremover('Incidence_Rate','__'))])"
   ]
  },
  {
   "cell_type": "code",
   "execution_count": 29,
   "metadata": {},
   "outputs": [],
   "source": [
    "pipeline.fit(dataset) \n",
    "train_set_prepared = pipeline.transform(dataset)\n",
    "train_set_prepared.reset_index(drop = True, inplace = True)\n",
    "train_set_prepared[\"Mortality_Rate\"] = pd.to_numeric(train_set_prepared[\"Mortality_Rate\"])\n",
    "train_set_prepared[\"Incidence_Rate\"] = pd.to_numeric(train_set_prepared[\"Incidence_Rate\"])\n",
    "train_set_prepared[\"Avg_Ann_Incidence\"] = pd.to_numeric(train_set_prepared[\"Avg_Ann_Incidence\"])\n",
    "train_set_prepared = povertypercentage(train_set_prepared)\n",
    "train_set_prepared = HealthInsurancePercentage(train_set_prepared)"
   ]
  },
  {
   "cell_type": "code",
   "execution_count": 30,
   "metadata": {},
   "outputs": [
    {
     "data": {
      "text/html": [
       "<div>\n",
       "<style scoped>\n",
       "    .dataframe tbody tr th:only-of-type {\n",
       "        vertical-align: middle;\n",
       "    }\n",
       "\n",
       "    .dataframe tbody tr th {\n",
       "        vertical-align: top;\n",
       "    }\n",
       "\n",
       "    .dataframe thead th {\n",
       "        text-align: right;\n",
       "    }\n",
       "</style>\n",
       "<table border=\"1\" class=\"dataframe\">\n",
       "  <thead>\n",
       "    <tr style=\"text-align: right;\">\n",
       "      <th></th>\n",
       "      <th>Med_Income</th>\n",
       "      <th>Med_Income_White</th>\n",
       "      <th>Med_Income_Black</th>\n",
       "      <th>Med_Income_Nat_Am</th>\n",
       "      <th>Med_Income_Asian</th>\n",
       "      <th>Hispanic</th>\n",
       "      <th>Incidence_Rate</th>\n",
       "      <th>Mortality_Rate</th>\n",
       "      <th>All_Poverty_Percentage</th>\n",
       "      <th>M_Poverty_Percentage</th>\n",
       "      <th>F_Poverty_Percentage</th>\n",
       "      <th>M_With_Percentage</th>\n",
       "      <th>F_With_Percentage</th>\n",
       "      <th>All_With_Percentage</th>\n",
       "    </tr>\n",
       "  </thead>\n",
       "  <tbody>\n",
       "    <tr>\n",
       "      <th>0</th>\n",
       "      <td>78326.0</td>\n",
       "      <td>87235.0</td>\n",
       "      <td>50535.0</td>\n",
       "      <td>53935.0</td>\n",
       "      <td>63757.0</td>\n",
       "      <td>53926.0</td>\n",
       "      <td>61.5</td>\n",
       "      <td>47.3</td>\n",
       "      <td>11.226802</td>\n",
       "      <td>5.022344</td>\n",
       "      <td>6.204458</td>\n",
       "      <td>41.953574</td>\n",
       "      <td>42.536943</td>\n",
       "      <td>84.490516</td>\n",
       "    </tr>\n",
       "    <tr>\n",
       "      <th>1</th>\n",
       "      <td>51012.0</td>\n",
       "      <td>92647.0</td>\n",
       "      <td>73661.0</td>\n",
       "      <td>41594.0</td>\n",
       "      <td>110625.0</td>\n",
       "      <td>160114.0</td>\n",
       "      <td>62.7</td>\n",
       "      <td>58.3</td>\n",
       "      <td>45.603800</td>\n",
       "      <td>22.979550</td>\n",
       "      <td>22.624250</td>\n",
       "      <td>36.538132</td>\n",
       "      <td>37.857755</td>\n",
       "      <td>74.395887</td>\n",
       "    </tr>\n",
       "    <tr>\n",
       "      <th>2</th>\n",
       "      <td>71068.0</td>\n",
       "      <td>74242.0</td>\n",
       "      <td>56353.0</td>\n",
       "      <td>48333.0</td>\n",
       "      <td>56339.0</td>\n",
       "      <td>55284.0</td>\n",
       "      <td>58.1</td>\n",
       "      <td>54.0</td>\n",
       "      <td>12.510867</td>\n",
       "      <td>5.685731</td>\n",
       "      <td>6.825136</td>\n",
       "      <td>43.617204</td>\n",
       "      <td>43.192902</td>\n",
       "      <td>86.810106</td>\n",
       "    </tr>\n",
       "    <tr>\n",
       "      <th>3</th>\n",
       "      <td>85746.0</td>\n",
       "      <td>90553.0</td>\n",
       "      <td>106964.0</td>\n",
       "      <td>57821.0</td>\n",
       "      <td>80893.0</td>\n",
       "      <td>76083.0</td>\n",
       "      <td>35.1</td>\n",
       "      <td>34.4</td>\n",
       "      <td>8.229000</td>\n",
       "      <td>4.465500</td>\n",
       "      <td>3.763500</td>\n",
       "      <td>42.978697</td>\n",
       "      <td>42.487565</td>\n",
       "      <td>85.466262</td>\n",
       "    </tr>\n",
       "    <tr>\n",
       "      <th>4</th>\n",
       "      <td>63684.0</td>\n",
       "      <td>64663.0</td>\n",
       "      <td>122660.0</td>\n",
       "      <td>46458.0</td>\n",
       "      <td>58125.0</td>\n",
       "      <td>64148.0</td>\n",
       "      <td>64.9</td>\n",
       "      <td>50.1</td>\n",
       "      <td>9.249082</td>\n",
       "      <td>4.320010</td>\n",
       "      <td>4.929072</td>\n",
       "      <td>40.036119</td>\n",
       "      <td>38.743362</td>\n",
       "      <td>78.779480</td>\n",
       "    </tr>\n",
       "  </tbody>\n",
       "</table>\n",
       "</div>"
      ],
      "text/plain": [
       "   Med_Income  Med_Income_White  Med_Income_Black  Med_Income_Nat_Am  \\\n",
       "0     78326.0           87235.0           50535.0            53935.0   \n",
       "1     51012.0           92647.0           73661.0            41594.0   \n",
       "2     71068.0           74242.0           56353.0            48333.0   \n",
       "3     85746.0           90553.0          106964.0            57821.0   \n",
       "4     63684.0           64663.0          122660.0            46458.0   \n",
       "\n",
       "   Med_Income_Asian  Hispanic  Incidence_Rate  Mortality_Rate  \\\n",
       "0           63757.0   53926.0            61.5            47.3   \n",
       "1          110625.0  160114.0            62.7            58.3   \n",
       "2           56339.0   55284.0            58.1            54.0   \n",
       "3           80893.0   76083.0            35.1            34.4   \n",
       "4           58125.0   64148.0            64.9            50.1   \n",
       "\n",
       "   All_Poverty_Percentage  M_Poverty_Percentage  F_Poverty_Percentage  \\\n",
       "0               11.226802              5.022344              6.204458   \n",
       "1               45.603800             22.979550             22.624250   \n",
       "2               12.510867              5.685731              6.825136   \n",
       "3                8.229000              4.465500              3.763500   \n",
       "4                9.249082              4.320010              4.929072   \n",
       "\n",
       "   M_With_Percentage  F_With_Percentage  All_With_Percentage  \n",
       "0          41.953574          42.536943            84.490516  \n",
       "1          36.538132          37.857755            74.395887  \n",
       "2          43.617204          43.192902            86.810106  \n",
       "3          42.978697          42.487565            85.466262  \n",
       "4          40.036119          38.743362            78.779480  "
      ]
     },
     "execution_count": 30,
     "metadata": {},
     "output_type": "execute_result"
    }
   ],
   "source": [
    "dataset_prepared = train_set_prepared.drop(['All_Poverty','M_Poverty','F_Poverty','M_With','M_Without'\n",
    "                                           ,'F_With','F_Without','All_With','All_Without','Avg_Ann_Incidence'],axis =1)\n",
    "dataset_prepared.head()"
   ]
  },
  {
   "cell_type": "code",
   "execution_count": 31,
   "metadata": {
    "scrolled": true
   },
   "outputs": [
    {
     "data": {
      "text/plain": [
       "Med_Income                   0\n",
       "Med_Income_White             0\n",
       "Med_Income_Black           822\n",
       "Med_Income_Nat_Am         1345\n",
       "Med_Income_Asian          1362\n",
       "Hispanic                   513\n",
       "Incidence_Rate               0\n",
       "Mortality_Rate               0\n",
       "All_Poverty_Percentage       0\n",
       "M_Poverty_Percentage         0\n",
       "F_Poverty_Percentage         0\n",
       "M_With_Percentage            0\n",
       "F_With_Percentage            0\n",
       "All_With_Percentage          0\n",
       "dtype: int64"
      ]
     },
     "execution_count": 31,
     "metadata": {},
     "output_type": "execute_result"
    }
   ],
   "source": [
    "dataset_prepared.isnull().sum()"
   ]
  },
  {
   "cell_type": "markdown",
   "metadata": {},
   "source": [
    "Dataset still has some null values (in the ethnicities column). These has been taken care of in appropriate places by considering only not null entries."
   ]
  },
  {
   "cell_type": "code",
   "execution_count": 34,
   "metadata": {},
   "outputs": [
    {
     "data": {
      "image/png": "[encoded data removed]",
      "text/plain": [
       "<Figure size 432x288 with 2 Axes>"
      ]
     },
     "metadata": {},
     "output_type": "display_data"
    }
   ],
   "source": [
    "cm = np.corrcoef(train_set_prepared[cols].values.T)\n",
    "sns.set(font_scale=1.5)\n",
    "hm = sns.heatmap(cm, cbar=True, annot=True, square=True, fmt='.2f', annot_kws={'size':15},\n",
    "                 yticklabels=cols, xticklabels=cols)\n",
    "plt.show()"
   ]
  },
  {
   "cell_type": "code",
   "execution_count": 34,
   "metadata": {},
   "outputs": [],
   "source": [
    "from sklearn.linear_model import LinearRegression\n",
    "\n",
    "# This function plots graph, saves them and returns model parameters, R2 scores of the function fitted\n",
    "\n",
    "### Note ####\n",
    "# Dependencies required: SciencePlots\n",
    "def graphingtool(X,y,xlabel_=\"\",ylabel_=\"\",legend1=\"\",legend2=\"\", title_ = None):\n",
    "    lr = LinearRegression()\n",
    "    X = X.reshape(-1,1)\n",
    "    lr.fit(X,y)\n",
    "    \n",
    "#     plt.style.use(['science','ieee','no-latex','grid'])\n",
    "#     plt.scatter(X,y,s=2)\n",
    "#     plt.plot(X,lr.predict(X),'r',)\n",
    "#     plt.xlabel(xlabel_)\n",
    "#     plt.ylabel(ylabel_)\n",
    "#     if title_:\n",
    "#         plt.title(title_)\n",
    "#     plt.legend([legend1,legend2])\n",
    "#     filename = xlabel_ + '_' + ylabel_\n",
    "#     plt.savefig(filename)\n",
    "#     plt.close()\n",
    "    m = lr.coef_[0]\n",
    "    c = lr.intercept_\n",
    "    return [m,c],lr.score(X,y)\n",
    "    \n"
   ]
  },
  {
   "cell_type": "code",
   "execution_count": 35,
   "metadata": {},
   "outputs": [],
   "source": [
    "# Soft Learning Example of Linear Regression \n",
    "# a is the true slope of the data and c is the true intercept\n",
    "# e is like simulated noise obtained from a gaussian distribution\n",
    "c = 1; sigma = 20; a = 5\n",
    "e = np.random.normal(0,sigma,100)\n",
    "x = np.linspace(-2,50,100)\n",
    "y = a*x + c + e "
   ]
  },
  {
   "cell_type": "code",
   "execution_count": 36,
   "metadata": {},
   "outputs": [
    {
     "data": {
      "text/plain": [
       "([4.800835050662803, 9.79975520594708], 0.9207516812979113)"
      ]
     },
     "execution_count": 36,
     "metadata": {},
     "output_type": "execute_result"
    }
   ],
   "source": [
    "graphingtool(x,y,xlabel_ = \"x\",ylabel_ = 'y',legend1 = 'Line of Best fit',legend2 = 'data',title_ = 'Linear Regression')"
   ]
  },
  {
   "cell_type": "markdown",
   "metadata": {},
   "source": [
    "The a_estimate and c_estimate are obtained via OLS Method and the plot (in pdf) seems a good fit"
   ]
  },
  {
   "cell_type": "code",
   "execution_count": 37,
   "metadata": {},
   "outputs": [],
   "source": [
    "# Graphs:\n",
    "xcols = {'Med_Income':'Median Income',\n",
    "         'Med_Income_White':'Median Income White',\n",
    "         'Med_Income_Black':'Median Income Black',\n",
    "         'Med_Income_Nat_Am': 'Median Income Native Americans',\n",
    "         'Med_Income_Asian':'Median Income Asian',\n",
    "         'Hispanic':'Median Income Hispanic',\n",
    "         'M_Poverty_Percentage':'Male Poverty (in Percent)',\n",
    "         'F_Poverty_Percentage':'Female Poverty (in Percent)',\n",
    "         'All_Poverty_Percentage':'Combined Poverty (in Percent)',\n",
    "         'M_With_Percentage':'Male with insurance (in percent)',\n",
    "         'F_With_Percentage':'Female with insurance (in percent)',\n",
    "         'All_With_Percentage':'All with insurance (in percent)'         \n",
    "        } \n",
    "\n",
    "ycols = ['Incidence_Rate','Mortality_Rate']"
   ]
  },
  {
   "cell_type": "code",
   "execution_count": 38,
   "metadata": {},
   "outputs": [],
   "source": [
    "model_estimates = {}\n",
    "\n",
    "for xcol,val in xcols.items():\n",
    "    for ycol in ycols:\n",
    "        x1 = dataset_prepared[xcol]\n",
    "        y1 = dataset_prepared[ycol]\n",
    "        y1 = y1[x1.notnull()]\n",
    "        x1 = x1[x1.notnull()]\n",
    "        data = \" \".join(ycol.split('_'))\n",
    "        [li,score] = graphingtool(x1.values,y1.values,xlabel_ = val,ylabel_ = data,legend1 = 'Linear Fit',\n",
    "                     legend2 = data)\n",
    "        model_estimates[xcol+'_'+ycol] = [li,score]    "
   ]
  },
  {
   "cell_type": "code",
   "execution_count": 42,
   "metadata": {},
   "outputs": [],
   "source": [
    "#################################\n",
    "# Median Income vs Incidence Rate\n",
    "#################################\n",
    "li = []\n",
    "for key,val in model_estimates.items():\n",
    "    if ('Med_Income' in key or 'Hispanic' in key) and 'Incidence_Rate' in key: \n",
    "        x = np.linspace(20000,140000)\n",
    "        y = model_estimates[key][0][0]*x + model_estimates[key][0][1]\n",
    "        plt.style.use(['science','grid','nature','no-latex'])\n",
    "        plt.plot(x,y)\n",
    "        data = key\n",
    "        temp = data.split('_')\n",
    "        temp = temp[:-2]\n",
    "        data  = \"_\".join(temp)\n",
    "        li.append(xcols[data])\n",
    "plt.xlabel('Median Income')\n",
    "plt.ylabel('Incidence Rate')\n",
    "plt.legend(li,prop={'size': 3})\n",
    "plt.title('Median Income vs Incidence Rate')\n",
    "plt.savefig('Median Income vs Incidence Rate')\n",
    "plt.close()\n",
    "        \n",
    "    "
   ]
  },
  {
   "cell_type": "code",
   "execution_count": 43,
   "metadata": {},
   "outputs": [],
   "source": [
    "#################################\n",
    "# Median Income vs Mortality Rate\n",
    "#################################\n",
    "\n",
    "li = []\n",
    "for key,val in model_estimates.items():\n",
    "    if ('Med_Income' in key or 'Hispanic' in key) and 'Mortality_Rate' in key: \n",
    "        x = np.linspace(10000,100000)\n",
    "        y = model_estimates[key][0][0]*x + model_estimates[key][0][1]\n",
    "        plt.style.use(['science','grid','nature','no-latex'])\n",
    "        plt.plot(x,y)\n",
    "        data = key\n",
    "        temp = data.split('_')\n",
    "        temp = temp[:-2]\n",
    "        data  = \"_\".join(temp)\n",
    "        li.append(xcols[data])\n",
    "plt.xlabel('Median Income')\n",
    "plt.ylabel('Mortality Rate')\n",
    "plt.legend(li,prop={'size': 3})\n",
    "plt.title('Median Income vs Mortality Rate')\n",
    "plt.savefig('Median Income vs Mortality Rate')\n",
    "plt.close()"
   ]
  },
  {
   "cell_type": "code",
   "execution_count": 44,
   "metadata": {},
   "outputs": [],
   "source": [
    "#################################\n",
    "# Poverty vs Incidence Rate\n",
    "#################################\n",
    "\n",
    "li = []\n",
    "for key,val in model_estimates.items():\n",
    "    if 'Poverty' in key and 'Incidence_Rate' in key: \n",
    "        x = np.linspace(5,70)\n",
    "        y = model_estimates[key][0][0]*x + model_estimates[key][0][1]\n",
    "        plt.style.use(['science','grid','nature','no-latex'])\n",
    "        plt.plot(x,y)\n",
    "        data = key\n",
    "        temp = data.split('_')\n",
    "        temp = temp[:-2]\n",
    "        data  = \"_\".join(temp)\n",
    "        li.append(xcols[data])\n",
    "plt.xlabel('Poverty in Percentage')\n",
    "plt.ylabel('Incidence Rate')\n",
    "plt.legend(li,prop={'size': 5})\n",
    "plt.title('Poverty vs Incidence Rate')\n",
    "plt.savefig('Poverty vs Incidence Rate')\n",
    "plt.close()"
   ]
  },
  {
   "cell_type": "code",
   "execution_count": 45,
   "metadata": {},
   "outputs": [],
   "source": [
    "#################################\n",
    "# Poverty vs Mortality Rate\n",
    "#################################\n",
    "\n",
    "li = []\n",
    "for key,val in model_estimates.items():\n",
    "    if 'Poverty' in key and 'Mortality_Rate' in key: \n",
    "        x = np.linspace(5,70)\n",
    "        y = model_estimates[key][0][0]*x + model_estimates[key][0][1]\n",
    "        plt.style.use(['science','grid','nature','no-latex'])\n",
    "        plt.plot(x,y)\n",
    "        data = key\n",
    "        temp = data.split('_')\n",
    "        temp = temp[:-2]\n",
    "        data  = \"_\".join(temp)\n",
    "        li.append(xcols[data])\n",
    "plt.xlabel('Poverty in Percentage')\n",
    "plt.ylabel('Mortality Rate')\n",
    "plt.legend(li,prop={'size': 5})\n",
    "plt.title('Poverty vs Mortality Rate')\n",
    "plt.savefig('Poverty vs Mortality Rate')\n",
    "plt.close()"
   ]
  },
  {
   "cell_type": "code",
   "execution_count": 39,
   "metadata": {},
   "outputs": [],
   "source": [
    "#################################\n",
    "# Health Insurance vs Incidence Rate\n",
    "#################################\n",
    "li = []\n",
    "for key,val in model_estimates.items():\n",
    "    if 'With' in key and 'Incidence_Rate' in key: \n",
    "        x = np.linspace(0,50)\n",
    "        y = model_estimates[key][0][0]*x + model_estimates[key][0][1]\n",
    "        plt.style.use(['science','grid','nature','no-latex'])\n",
    "        plt.plot(x,y)\n",
    "        data = key\n",
    "        temp = data.split('_')\n",
    "        temp = temp[:-2]\n",
    "        data  = \"_\".join(temp)\n",
    "        li.append(xcols[data])\n",
    "plt.xlabel('People Insured (in Percent)')\n",
    "plt.ylabel('Incidence Rate')\n",
    "plt.legend(li,prop={'size': 5})\n",
    "plt.title('Health Insurance vs Incidence Rate')\n",
    "plt.savefig('Health Insurance vs Incidence Rate')\n",
    "plt.close()"
   ]
  },
  {
   "cell_type": "code",
   "execution_count": 40,
   "metadata": {},
   "outputs": [],
   "source": [
    "#################################\n",
    "# Health Insurance vs Mortality Rate\n",
    "#################################\n",
    "li = []\n",
    "for key,val in model_estimates.items():\n",
    "    if 'With' in key and 'Mortality_Rate' in key: \n",
    "        x = np.linspace(0,50)\n",
    "        y = model_estimates[key][0][0]*x + model_estimates[key][0][1]\n",
    "        plt.style.use(['science','grid','nature','no-latex'])\n",
    "        plt.plot(x,y)\n",
    "        data = key\n",
    "        temp = data.split('_')\n",
    "        temp = temp[:-2]\n",
    "        data  = \"_\".join(temp)\n",
    "        li.append(xcols[data])\n",
    "plt.xlabel('People Insured (in Percent)')\n",
    "plt.ylabel('Mortality Rate')\n",
    "plt.legend(li,prop={'size': 5})\n",
    "plt.title('Health Insurance vs Mortality Rate')\n",
    "plt.savefig('Health Insurance vs Mortality Rate')\n",
    "plt.close()"
   ]
  }
 ],
 "metadata": {
  "kernelspec": {
   "display_name": "Python 3",
   "language": "python",
   "name": "python3"
  },
  "language_info": {
   "codemirror_mode": {
    "name": "ipython",
    "version": 3
   },
   "file_extension": ".py",
   "mimetype": "text/x-python",
   "name": "python",
   "nbconvert_exporter": "python",
   "pygments_lexer": "ipython3",
   "version": "3.7.6"
  }
 },
 "nbformat": 4,
 "nbformat_minor": 4
}
